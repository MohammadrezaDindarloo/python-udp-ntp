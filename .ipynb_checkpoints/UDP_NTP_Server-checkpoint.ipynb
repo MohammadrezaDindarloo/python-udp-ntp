{
 "cells": [
  {
   "cell_type": "code",
   "execution_count": 1,
   "metadata": {},
   "outputs": [],
   "source": [
    "import serial\n",
    "import time\n",
    "import struct\n",
    "import threading\n",
    "import time \n",
    "from src.utils import *"
   ]
  },
  {
   "cell_type": "markdown",
   "metadata": {},
   "source": [
    "# UDP NTP Server Class"
   ]
  },
  {
   "cell_type": "code",
   "execution_count": null,
   "metadata": {},
   "outputs": [],
   "source": [
    "class serialNtpServer():\n",
    "    '''A class that implements an NTP Server with serial interface. This has been tested with SiK serial radio modules'''\n",
    "    \n",
    "    def __init__(self, local_port = 5000):\n",
    "        '''\n",
    "        The constructor of the UDP NTP Server class. With this, the NTP server starts\n",
    "        @param: port:\n",
    "        The port number to which the server will listen\n",
    "        '''\n",
    "        self.link = wifiDataLink(None, None, local_port)\n",
    "        self.running = True\n",
    "        self.receiveTread = threading.Thread(target=self.receivingThread, args=())\n",
    "        self.receiveTread.start()\n",
    "        \n",
    "    def receivingThread(self):\n",
    "        while self.running:\n",
    "            data, addr = self.link.getData(8)\n",
    "            self.link.remote_ip = addr[0]\n",
    "            self.link.remote_port = addr[1]\n",
    "            if len(data) == 8:\n",
    "                #record the time of the recpetion of the request\n",
    "                self.stamp2 = time.time_ns();\n",
    "                self.stamp1 = int(struct.unpack('Q', data)[0])\n",
    "                self.link.transmitData([self.stamp1, self.stamp2, time.time_ns()], format = 'Q')\n",
    "                \n",
    "    def serverStop(self):\n",
    "        self.running = False\n",
    "        self.receiveTread.join()\n",
    "        self.link.in_socket.close()\n",
    "        self.link.out_socket.close()\n",
    "        "
   ]
  },
  {
   "cell_type": "markdown",
   "metadata": {},
   "source": [
    "## Start the Server"
   ]
  },
  {
   "cell_type": "code",
   "execution_count": null,
   "metadata": {},
   "outputs": [],
   "source": [
    "server = serialNtpServer()"
   ]
  },
  {
   "cell_type": "code",
   "execution_count": 2,
   "metadata": {},
   "outputs": [],
   "source": [
    "link= wifiDataLink('255.255.255.255', 20000, 10000)"
   ]
  },
  {
   "cell_type": "code",
   "execution_count": 32,
   "metadata": {},
   "outputs": [],
   "source": [
    "link.socket.setsockopt(socket.SOL_SOCKET, socket.SO_BROADCAST, 1)"
   ]
  },
  {
   "cell_type": "code",
   "execution_count": 54,
   "metadata": {},
   "outputs": [
    {
     "ename": "KeyboardInterrupt",
     "evalue": "",
     "output_type": "error",
     "traceback": [
      "\u001b[0;31m---------------------------------------------------------------------------\u001b[0m",
      "\u001b[0;31mKeyboardInterrupt\u001b[0m                         Traceback (most recent call last)",
      "\u001b[0;32m/tmp/ipykernel_31134/3308202549.py\u001b[0m in \u001b[0;36m<module>\u001b[0;34m\u001b[0m\n\u001b[1;32m      1\u001b[0m \u001b[0;32mwhile\u001b[0m \u001b[0;32mTrue\u001b[0m\u001b[0;34m:\u001b[0m\u001b[0;34m\u001b[0m\u001b[0;34m\u001b[0m\u001b[0m\n\u001b[0;32m----> 2\u001b[0;31m     \u001b[0mtime\u001b[0m\u001b[0;34m.\u001b[0m\u001b[0msleep\u001b[0m\u001b[0;34m(\u001b[0m\u001b[0;36m1\u001b[0m\u001b[0;34m/\u001b[0m\u001b[0;36m50.5\u001b[0m\u001b[0;34m)\u001b[0m\u001b[0;34m\u001b[0m\u001b[0;34m\u001b[0m\u001b[0m\n\u001b[0m\u001b[1;32m      3\u001b[0m     \u001b[0mlink\u001b[0m\u001b[0;34m.\u001b[0m\u001b[0mremote_ip\u001b[0m \u001b[0;34m=\u001b[0m \u001b[0;34m'10.42.0.255'\u001b[0m\u001b[0;34m\u001b[0m\u001b[0;34m\u001b[0m\u001b[0m\n\u001b[1;32m      4\u001b[0m     \u001b[0mlink\u001b[0m\u001b[0;34m.\u001b[0m\u001b[0mremote_port\u001b[0m \u001b[0;34m=\u001b[0m \u001b[0;36m20000\u001b[0m\u001b[0;34m\u001b[0m\u001b[0;34m\u001b[0m\u001b[0m\n\u001b[1;32m      5\u001b[0m     \u001b[0mlink\u001b[0m\u001b[0;34m.\u001b[0m\u001b[0mtransmitData\u001b[0m\u001b[0;34m(\u001b[0m\u001b[0;34m[\u001b[0m\u001b[0;36m0\u001b[0m\u001b[0;34m]\u001b[0m\u001b[0;34m)\u001b[0m\u001b[0;34m\u001b[0m\u001b[0;34m\u001b[0m\u001b[0m\n",
      "\u001b[0;31mKeyboardInterrupt\u001b[0m: "
     ]
    }
   ],
   "source": [
    "while True:\n",
    "    time.sleep(1/51)\n",
    "    link.remote_ip = '10.42.0.255'\n",
    "    link.remote_port = 20000\n",
    "    link.transmitData([0])"
   ]
  },
  {
   "cell_type": "code",
   "execution_count": null,
   "metadata": {},
   "outputs": [],
   "source": []
  }
 ],
 "metadata": {
  "kernelspec": {
   "display_name": "py38_env",
   "language": "python",
   "name": "py38_env"
  },
  "language_info": {
   "codemirror_mode": {
    "name": "ipython",
    "version": 3
   },
   "file_extension": ".py",
   "mimetype": "text/x-python",
   "name": "python",
   "nbconvert_exporter": "python",
   "pygments_lexer": "ipython3",
   "version": "3.8.6"
  }
 },
 "nbformat": 4,
 "nbformat_minor": 2
}
